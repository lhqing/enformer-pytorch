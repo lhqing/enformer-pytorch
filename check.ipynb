{
 "cells": [
  {
   "cell_type": "code",
   "execution_count": 1,
   "id": "0cb0ce53-9644-44d4-b098-7ae719a4feef",
   "metadata": {
    "execution": {
     "iopub.execute_input": "2024-07-31T17:22:18.587876Z",
     "iopub.status.busy": "2024-07-31T17:22:18.587533Z",
     "iopub.status.idle": "2024-07-31T17:22:20.178689Z",
     "shell.execute_reply": "2024-07-31T17:22:20.178189Z",
     "shell.execute_reply.started": "2024-07-31T17:22:18.587861Z"
    }
   },
   "outputs": [],
   "source": [
    "import torch"
   ]
  },
  {
   "cell_type": "code",
   "execution_count": 3,
   "id": "47ef6ec5-f18d-41af-9aa0-7c0bf6fa5e69",
   "metadata": {
    "execution": {
     "iopub.execute_input": "2024-07-31T17:22:33.171944Z",
     "iopub.status.busy": "2024-07-31T17:22:33.171410Z",
     "iopub.status.idle": "2024-07-31T17:22:33.188327Z",
     "shell.execute_reply": "2024-07-31T17:22:33.187885Z",
     "shell.execute_reply.started": "2024-07-31T17:22:33.171919Z"
    }
   },
   "outputs": [],
   "source": [
    "data = torch.load('data/test-sample.pt')"
   ]
  },
  {
   "cell_type": "code",
   "execution_count": 4,
   "id": "16e9d36b-087d-46fc-a987-8b24dbf909bc",
   "metadata": {
    "execution": {
     "iopub.execute_input": "2024-07-31T17:22:43.235134Z",
     "iopub.status.busy": "2024-07-31T17:22:43.234572Z",
     "iopub.status.idle": "2024-07-31T17:22:43.237794Z",
     "shell.execute_reply": "2024-07-31T17:22:43.237365Z",
     "shell.execute_reply.started": "2024-07-31T17:22:43.235117Z"
    }
   },
   "outputs": [
    {
     "name": "stdout",
     "output_type": "stream",
     "text": [
      "sequence torch.float32 torch.Size([131072, 4])\n",
      "target torch.float32 torch.Size([896, 5313])\n"
     ]
    }
   ],
   "source": [
    "for k, v in data.items():\n",
    "    print(k, v.dtype, v.size())"
   ]
  },
  {
   "cell_type": "code",
   "execution_count": 14,
   "id": "b282d405-0c3d-4d29-a98a-3d8b6e5440a7",
   "metadata": {
    "execution": {
     "iopub.execute_input": "2024-07-31T17:25:31.929568Z",
     "iopub.status.busy": "2024-07-31T17:25:31.929166Z",
     "iopub.status.idle": "2024-07-31T17:25:31.932471Z",
     "shell.execute_reply": "2024-07-31T17:25:31.931992Z",
     "shell.execute_reply.started": "2024-07-31T17:25:31.929551Z"
    }
   },
   "outputs": [
    {
     "data": {
      "text/plain": [
       "1024.0"
      ]
     },
     "execution_count": 14,
     "metadata": {},
     "output_type": "execute_result"
    }
   ],
   "source": [
    "2**17 / 2**7"
   ]
  },
  {
   "cell_type": "code",
   "execution_count": 11,
   "id": "6e1db37a-9082-411c-8d58-6c4a5923dae3",
   "metadata": {
    "execution": {
     "iopub.execute_input": "2024-07-31T17:23:46.210384Z",
     "iopub.status.busy": "2024-07-31T17:23:46.209996Z",
     "iopub.status.idle": "2024-07-31T17:23:46.213139Z",
     "shell.execute_reply": "2024-07-31T17:23:46.212680Z",
     "shell.execute_reply.started": "2024-07-31T17:23:46.210368Z"
    }
   },
   "outputs": [],
   "source": [
    "tf_gammas = torch.load('enformer_pytorch/precomputed/tf_gammas.pt')"
   ]
  },
  {
   "cell_type": "code",
   "execution_count": 12,
   "id": "d85bdede-a12c-4241-86ae-a571719fcaa1",
   "metadata": {
    "execution": {
     "iopub.execute_input": "2024-07-31T17:23:49.592950Z",
     "iopub.status.busy": "2024-07-31T17:23:49.592596Z",
     "iopub.status.idle": "2024-07-31T17:23:49.595834Z",
     "shell.execute_reply": "2024-07-31T17:23:49.595316Z",
     "shell.execute_reply.started": "2024-07-31T17:23:49.592935Z"
    }
   },
   "outputs": [
    {
     "data": {
      "text/plain": [
       "torch.Size([3071, 32])"
      ]
     },
     "execution_count": 12,
     "metadata": {},
     "output_type": "execute_result"
    }
   ],
   "source": [
    "tf_gammas.shape"
   ]
  },
  {
   "cell_type": "code",
   "execution_count": 21,
   "id": "e2281fca-dd73-4978-9eeb-68a139c784cc",
   "metadata": {
    "execution": {
     "iopub.execute_input": "2024-07-31T19:57:47.211451Z",
     "iopub.status.busy": "2024-07-31T19:57:47.211274Z",
     "iopub.status.idle": "2024-07-31T19:57:47.213750Z",
     "shell.execute_reply": "2024-07-31T19:57:47.213344Z",
     "shell.execute_reply.started": "2024-07-31T19:57:47.211437Z"
    }
   },
   "outputs": [],
   "source": [
    "x = torch.ones((10, 100, 20))"
   ]
  },
  {
   "cell_type": "code",
   "execution_count": 22,
   "id": "6c0e36f0-1839-4d67-a575-53b6b56ff837",
   "metadata": {
    "execution": {
     "iopub.execute_input": "2024-07-31T19:57:47.530996Z",
     "iopub.status.busy": "2024-07-31T19:57:47.530850Z",
     "iopub.status.idle": "2024-07-31T19:57:47.535835Z",
     "shell.execute_reply": "2024-07-31T19:57:47.535415Z",
     "shell.execute_reply.started": "2024-07-31T19:57:47.530983Z"
    }
   },
   "outputs": [],
   "source": [
    "from torch import nn\n",
    "from einops.layers.torch import Rearrange\n",
    "\n",
    "\n",
    "class AttentionPool(nn.Module):\n",
    "    \"\"\"\n",
    "    This class implements the attention pooling mechanism for the Enformer model.\n",
    "    \"\"\"\n",
    "    def __init__(self, dim, pool_size=2):\n",
    "        super().__init__()\n",
    "        self.pool_size = pool_size\n",
    "        self.pool_fn = Rearrange(\"b d (n p) -> b d n p\", p=pool_size)\n",
    "\n",
    "        self.to_attn_logits = nn.Conv2d(dim, dim, 1, bias=False)\n",
    "\n",
    "        nn.init.dirac_(self.to_attn_logits.weight)\n",
    "\n",
    "        with torch.no_grad():\n",
    "            self.to_attn_logits.weight.mul_(2)\n",
    "\n",
    "    def forward(self, x):\n",
    "        \"\"\"\n",
    "        x: torch.Tensor, shape (batch, dim, seq_len)\n",
    "\n",
    "        Returns:\n",
    "        - torch.Tensor, shape (batch, dim, seq_len)\n",
    "        \"\"\"\n",
    "        b, _, n = x.shape\n",
    "        remainder = n % self.pool_size\n",
    "        needs_padding = remainder > 0\n",
    "\n",
    "        if needs_padding:\n",
    "            x = F.pad(x, (0, remainder), value=0)\n",
    "            mask = torch.zeros((b, 1, n), dtype=torch.bool, device=x.device)\n",
    "            mask = F.pad(mask, (0, remainder), value=True)\n",
    "\n",
    "        x = self.pool_fn(x)\n",
    "        logits = self.to_attn_logits(x)\n",
    "\n",
    "        if needs_padding:\n",
    "            mask_value = -torch.finfo(logits.dtype).max\n",
    "            logits = logits.masked_fill(self.pool_fn(mask), mask_value)\n",
    "\n",
    "        attn = logits.softmax(dim=-1)\n",
    "\n",
    "        return (x * attn).sum(dim=-1)\n"
   ]
  },
  {
   "cell_type": "code",
   "execution_count": 23,
   "id": "a21b362e-ed30-4509-864b-1bae77fc5999",
   "metadata": {
    "execution": {
     "iopub.execute_input": "2024-07-31T19:57:48.011521Z",
     "iopub.status.busy": "2024-07-31T19:57:48.011256Z",
     "iopub.status.idle": "2024-07-31T19:57:48.014600Z",
     "shell.execute_reply": "2024-07-31T19:57:48.014177Z",
     "shell.execute_reply.started": "2024-07-31T19:57:48.011506Z"
    }
   },
   "outputs": [],
   "source": [
    "pool = AttentionPool(dim=100)"
   ]
  },
  {
   "cell_type": "code",
   "execution_count": 26,
   "id": "77fd9db4-8e1e-498f-9196-343ac3a79cce",
   "metadata": {
    "execution": {
     "iopub.execute_input": "2024-07-31T19:57:55.186062Z",
     "iopub.status.busy": "2024-07-31T19:57:55.185771Z",
     "iopub.status.idle": "2024-07-31T19:57:55.197684Z",
     "shell.execute_reply": "2024-07-31T19:57:55.197294Z",
     "shell.execute_reply.started": "2024-07-31T19:57:55.186046Z"
    }
   },
   "outputs": [
    {
     "data": {
      "text/plain": [
       "(torch.Size([10, 100, 20]), torch.Size([10, 100, 10]))"
      ]
     },
     "execution_count": 26,
     "metadata": {},
     "output_type": "execute_result"
    }
   ],
   "source": [
    "x.shape, pool(x).shape"
   ]
  },
  {
   "cell_type": "code",
   "execution_count": 28,
   "id": "4acd16e4-0ed4-44e9-95ae-275e855c8e8c",
   "metadata": {
    "execution": {
     "iopub.execute_input": "2024-07-31T20:11:51.375466Z",
     "iopub.status.busy": "2024-07-31T20:11:51.374972Z",
     "iopub.status.idle": "2024-07-31T20:11:51.378548Z",
     "shell.execute_reply": "2024-07-31T20:11:51.378099Z",
     "shell.execute_reply.started": "2024-07-31T20:11:51.375447Z"
    }
   },
   "outputs": [],
   "source": [
    "import math\n",
    "\n",
    "\n",
    "def exponential_linspace_int(start, end, num, divisible_by=1):\n",
    "    def _round(x):\n",
    "        return int(round(x / divisible_by) * divisible_by)\n",
    "\n",
    "    base = math.exp(math.log(end / start) / (num - 1))\n",
    "    return [_round(start * base**i) for i in range(num)]\n"
   ]
  },
  {
   "cell_type": "code",
   "execution_count": 31,
   "id": "9532c88f-fddc-44aa-acca-addfb6d5ba94",
   "metadata": {
    "execution": {
     "iopub.execute_input": "2024-07-31T20:12:37.977505Z",
     "iopub.status.busy": "2024-07-31T20:12:37.977290Z",
     "iopub.status.idle": "2024-07-31T20:12:37.980732Z",
     "shell.execute_reply": "2024-07-31T20:12:37.980357Z",
     "shell.execute_reply.started": "2024-07-31T20:12:37.977489Z"
    }
   },
   "outputs": [
    {
     "data": {
      "text/plain": [
       "[768, 896, 1024, 1152, 1280, 1536]"
      ]
     },
     "execution_count": 31,
     "metadata": {},
     "output_type": "execute_result"
    }
   ],
   "source": []
  },
  {
   "cell_type": "code",
   "execution_count": null,
   "id": "819f4bb1-5c6b-443a-86d1-490b8ba0ce48",
   "metadata": {},
   "outputs": [],
   "source": []
  },
  {
   "cell_type": "code",
   "execution_count": null,
   "id": "81488522-24f4-4a1d-bea7-efb1eb0aa131",
   "metadata": {},
   "outputs": [],
   "source": []
  },
  {
   "cell_type": "code",
   "execution_count": null,
   "id": "3047680f-209b-4c65-81d7-079b613a6263",
   "metadata": {},
   "outputs": [],
   "source": []
  },
  {
   "cell_type": "code",
   "execution_count": null,
   "id": "57f7c9b2-af64-433c-b351-0190244b67a8",
   "metadata": {},
   "outputs": [],
   "source": []
  }
 ],
 "metadata": {
  "kernelspec": {
   "display_name": "Python 3 (ipykernel)",
   "language": "python",
   "name": "python3"
  },
  "language_info": {
   "codemirror_mode": {
    "name": "ipython",
    "version": 3
   },
   "file_extension": ".py",
   "mimetype": "text/x-python",
   "name": "python",
   "nbconvert_exporter": "python",
   "pygments_lexer": "ipython3",
   "version": "3.10.14"
  }
 },
 "nbformat": 4,
 "nbformat_minor": 5
}
