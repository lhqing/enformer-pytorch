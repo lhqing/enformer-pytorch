{
 "cells": [
  {
   "cell_type": "code",
   "execution_count": 1,
   "id": "0cb0ce53-9644-44d4-b098-7ae719a4feef",
   "metadata": {
    "execution": {
     "iopub.execute_input": "2024-07-31T17:22:18.587876Z",
     "iopub.status.busy": "2024-07-31T17:22:18.587533Z",
     "iopub.status.idle": "2024-07-31T17:22:20.178689Z",
     "shell.execute_reply": "2024-07-31T17:22:20.178189Z",
     "shell.execute_reply.started": "2024-07-31T17:22:18.587861Z"
    }
   },
   "outputs": [],
   "source": [
    "import torch"
   ]
  },
  {
   "cell_type": "code",
   "execution_count": 3,
   "id": "47ef6ec5-f18d-41af-9aa0-7c0bf6fa5e69",
   "metadata": {
    "execution": {
     "iopub.execute_input": "2024-07-31T17:22:33.171944Z",
     "iopub.status.busy": "2024-07-31T17:22:33.171410Z",
     "iopub.status.idle": "2024-07-31T17:22:33.188327Z",
     "shell.execute_reply": "2024-07-31T17:22:33.187885Z",
     "shell.execute_reply.started": "2024-07-31T17:22:33.171919Z"
    }
   },
   "outputs": [],
   "source": [
    "data = torch.load('data/test-sample.pt')"
   ]
  },
  {
   "cell_type": "code",
   "execution_count": 4,
   "id": "16e9d36b-087d-46fc-a987-8b24dbf909bc",
   "metadata": {
    "execution": {
     "iopub.execute_input": "2024-07-31T17:22:43.235134Z",
     "iopub.status.busy": "2024-07-31T17:22:43.234572Z",
     "iopub.status.idle": "2024-07-31T17:22:43.237794Z",
     "shell.execute_reply": "2024-07-31T17:22:43.237365Z",
     "shell.execute_reply.started": "2024-07-31T17:22:43.235117Z"
    }
   },
   "outputs": [
    {
     "name": "stdout",
     "output_type": "stream",
     "text": [
      "sequence torch.float32 torch.Size([131072, 4])\n",
      "target torch.float32 torch.Size([896, 5313])\n"
     ]
    }
   ],
   "source": [
    "for k, v in data.items():\n",
    "    print(k, v.dtype, v.size())"
   ]
  },
  {
   "cell_type": "code",
   "execution_count": 14,
   "id": "b282d405-0c3d-4d29-a98a-3d8b6e5440a7",
   "metadata": {
    "execution": {
     "iopub.execute_input": "2024-07-31T17:25:31.929568Z",
     "iopub.status.busy": "2024-07-31T17:25:31.929166Z",
     "iopub.status.idle": "2024-07-31T17:25:31.932471Z",
     "shell.execute_reply": "2024-07-31T17:25:31.931992Z",
     "shell.execute_reply.started": "2024-07-31T17:25:31.929551Z"
    }
   },
   "outputs": [
    {
     "data": {
      "text/plain": [
       "1024.0"
      ]
     },
     "execution_count": 14,
     "metadata": {},
     "output_type": "execute_result"
    }
   ],
   "source": [
    "2**17 / 2**7"
   ]
  },
  {
   "cell_type": "code",
   "execution_count": 11,
   "id": "6e1db37a-9082-411c-8d58-6c4a5923dae3",
   "metadata": {
    "execution": {
     "iopub.execute_input": "2024-07-31T17:23:46.210384Z",
     "iopub.status.busy": "2024-07-31T17:23:46.209996Z",
     "iopub.status.idle": "2024-07-31T17:23:46.213139Z",
     "shell.execute_reply": "2024-07-31T17:23:46.212680Z",
     "shell.execute_reply.started": "2024-07-31T17:23:46.210368Z"
    }
   },
   "outputs": [],
   "source": [
    "tf_gammas = torch.load('enformer_pytorch/precomputed/tf_gammas.pt')"
   ]
  },
  {
   "cell_type": "code",
   "execution_count": 12,
   "id": "d85bdede-a12c-4241-86ae-a571719fcaa1",
   "metadata": {
    "execution": {
     "iopub.execute_input": "2024-07-31T17:23:49.592950Z",
     "iopub.status.busy": "2024-07-31T17:23:49.592596Z",
     "iopub.status.idle": "2024-07-31T17:23:49.595834Z",
     "shell.execute_reply": "2024-07-31T17:23:49.595316Z",
     "shell.execute_reply.started": "2024-07-31T17:23:49.592935Z"
    }
   },
   "outputs": [
    {
     "data": {
      "text/plain": [
       "torch.Size([3071, 32])"
      ]
     },
     "execution_count": 12,
     "metadata": {},
     "output_type": "execute_result"
    }
   ],
   "source": [
    "tf_gammas.shape"
   ]
  },
  {
   "cell_type": "code",
   "execution_count": null,
   "id": "e2281fca-dd73-4978-9eeb-68a139c784cc",
   "metadata": {},
   "outputs": [],
   "source": []
  }
 ],
 "metadata": {
  "kernelspec": {
   "display_name": "Python 3 (ipykernel)",
   "language": "python",
   "name": "python3"
  },
  "language_info": {
   "codemirror_mode": {
    "name": "ipython",
    "version": 3
   },
   "file_extension": ".py",
   "mimetype": "text/x-python",
   "name": "python",
   "nbconvert_exporter": "python",
   "pygments_lexer": "ipython3",
   "version": "3.10.14"
  }
 },
 "nbformat": 4,
 "nbformat_minor": 5
}
