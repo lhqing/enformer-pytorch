{
 "cells": [
  {
   "cell_type": "code",
   "execution_count": 3,
   "id": "277ae6c2-ebb4-407a-9d70-6bfd047bffcf",
   "metadata": {
    "execution": {
     "iopub.execute_input": "2024-08-16T14:54:40.632128Z",
     "iopub.status.busy": "2024-08-16T14:54:40.631515Z",
     "iopub.status.idle": "2024-08-16T14:54:40.642109Z",
     "shell.execute_reply": "2024-08-16T14:54:40.641558Z",
     "shell.execute_reply.started": "2024-08-16T14:54:40.632110Z"
    }
   },
   "outputs": [],
   "source": [
    "import torch\n",
    "from enformer_pytorch import from_pretrained\n",
    "from torchinfo import summary"
   ]
  },
  {
   "cell_type": "code",
   "execution_count": 26,
   "id": "bf3ddcc6-20db-4868-b026-f59803ef4e09",
   "metadata": {
    "execution": {
     "iopub.execute_input": "2024-08-16T15:00:04.251976Z",
     "iopub.status.busy": "2024-08-16T15:00:04.251796Z",
     "iopub.status.idle": "2024-08-16T15:00:05.087327Z",
     "shell.execute_reply": "2024-08-16T15:00:05.086800Z",
     "shell.execute_reply.started": "2024-08-16T15:00:04.251962Z"
    },
    "scrolled": true
   },
   "outputs": [
    {
     "data": {
      "text/plain": [
       "===========================================================================\n",
       "Layer (type:depth-idx)                             Param #\n",
       "===========================================================================\n",
       "Enformer                                           --\n",
       "├─Sequential: 1-1                                  --\n",
       "│    └─Conv1d: 2-1                                 46,848\n",
       "│    └─Residual: 2-2                               --\n",
       "│    │    └─Sequential: 3-1                        592,128\n",
       "│    └─AttentionPool: 2-3                          --\n",
       "│    │    └─Rearrange: 3-2                         --\n",
       "│    │    └─Conv2d: 3-3                            589,824\n",
       "├─Sequential: 1-2                                  --\n",
       "│    └─Sequential: 2-4                             --\n",
       "│    │    └─Sequential: 3-4                        2,951,424\n",
       "│    │    └─Residual: 3-5                          592,128\n",
       "│    │    └─AttentionPool: 3-6                     589,824\n",
       "│    └─Sequential: 2-5                             --\n",
       "│    │    └─Sequential: 3-7                        3,443,072\n",
       "│    │    └─Residual: 3-8                          805,504\n",
       "│    │    └─AttentionPool: 3-9                     802,816\n",
       "│    └─Sequential: 2-6                             --\n",
       "│    │    └─Sequential: 3-10                       4,590,336\n",
       "│    │    └─Residual: 3-11                         1,051,648\n",
       "│    │    └─AttentionPool: 3-12                    1,048,576\n",
       "│    └─Sequential: 2-7                             --\n",
       "│    │    └─Sequential: 3-13                       5,901,440\n",
       "│    │    └─Residual: 3-14                         1,330,560\n",
       "│    │    └─AttentionPool: 3-15                    1,327,104\n",
       "│    └─Sequential: 2-8                             --\n",
       "│    │    └─Sequential: 3-16                       7,376,384\n",
       "│    │    └─Residual: 3-17                         1,642,240\n",
       "│    │    └─AttentionPool: 3-18                    1,638,400\n",
       "│    └─Sequential: 2-9                             --\n",
       "│    │    └─Sequential: 3-19                       9,834,496\n",
       "│    │    └─Residual: 3-20                         2,363,904\n",
       "│    │    └─AttentionPool: 3-21                    2,359,296\n",
       "├─Sequential: 1-3                                  --\n",
       "│    └─Sequential: 2-10                            --\n",
       "│    │    └─Residual: 3-22                         6,395,392\n",
       "│    │    └─Residual: 3-23                         9,444,864\n",
       "│    └─Sequential: 2-11                            --\n",
       "│    │    └─Residual: 3-24                         6,395,392\n",
       "│    │    └─Residual: 3-25                         9,444,864\n",
       "│    └─Sequential: 2-12                            --\n",
       "│    │    └─Residual: 3-26                         6,395,392\n",
       "│    │    └─Residual: 3-27                         9,444,864\n",
       "│    └─Sequential: 2-13                            --\n",
       "│    │    └─Residual: 3-28                         6,395,392\n",
       "│    │    └─Residual: 3-29                         9,444,864\n",
       "│    └─Sequential: 2-14                            --\n",
       "│    │    └─Residual: 3-30                         6,395,392\n",
       "│    │    └─Residual: 3-31                         9,444,864\n",
       "│    └─Sequential: 2-15                            --\n",
       "│    │    └─Residual: 3-32                         6,395,392\n",
       "│    │    └─Residual: 3-33                         9,444,864\n",
       "│    └─Sequential: 2-16                            --\n",
       "│    │    └─Residual: 3-34                         6,395,392\n",
       "│    │    └─Residual: 3-35                         9,444,864\n",
       "│    └─Sequential: 2-17                            --\n",
       "│    │    └─Residual: 3-36                         6,395,392\n",
       "│    │    └─Residual: 3-37                         9,444,864\n",
       "│    └─Sequential: 2-18                            --\n",
       "│    │    └─Residual: 3-38                         6,395,392\n",
       "│    │    └─Residual: 3-39                         9,444,864\n",
       "│    └─Sequential: 2-19                            --\n",
       "│    │    └─Residual: 3-40                         6,395,392\n",
       "│    │    └─Residual: 3-41                         9,444,864\n",
       "│    └─Sequential: 2-20                            --\n",
       "│    │    └─Residual: 3-42                         6,395,392\n",
       "│    │    └─Residual: 3-43                         9,444,864\n",
       "├─TargetLengthCrop: 1-4                            --\n",
       "├─Sequential: 1-5                                  --\n",
       "│    └─Rearrange: 2-21                             --\n",
       "│    └─Sequential: 2-22                            --\n",
       "│    │    └─BatchNorm1d: 3-44                      3,072\n",
       "│    │    └─GELU: 3-45                             --\n",
       "│    │    └─Conv1d: 3-46                           4,721,664\n",
       "│    └─Rearrange: 2-23                             --\n",
       "│    └─Dropout: 2-24                               --\n",
       "│    └─GELU: 2-25                                  --\n",
       "├─Sequential: 1-6                                  229,845,504\n",
       "│    └─Rearrange: 2-26                             --\n",
       "│    └─Sequential: 2-27                            (recursive)\n",
       "│    │    └─Conv1d: 3-47                           (recursive)\n",
       "│    │    └─Residual: 3-48                         (recursive)\n",
       "│    │    └─AttentionPool: 3-49                    (recursive)\n",
       "│    └─Sequential: 2-28                            (recursive)\n",
       "│    │    └─Sequential: 3-50                       (recursive)\n",
       "│    │    └─Sequential: 3-51                       (recursive)\n",
       "│    │    └─Sequential: 3-52                       (recursive)\n",
       "│    │    └─Sequential: 3-53                       (recursive)\n",
       "│    │    └─Sequential: 3-54                       (recursive)\n",
       "│    │    └─Sequential: 3-55                       (recursive)\n",
       "│    └─Rearrange: 2-29                             --\n",
       "│    └─Sequential: 2-30                            (recursive)\n",
       "│    │    └─Sequential: 3-56                       (recursive)\n",
       "│    │    └─Sequential: 3-57                       (recursive)\n",
       "│    │    └─Sequential: 3-58                       (recursive)\n",
       "│    │    └─Sequential: 3-59                       (recursive)\n",
       "│    │    └─Sequential: 3-60                       (recursive)\n",
       "│    │    └─Sequential: 3-61                       (recursive)\n",
       "│    │    └─Sequential: 3-62                       (recursive)\n",
       "│    │    └─Sequential: 3-63                       (recursive)\n",
       "│    │    └─Sequential: 3-64                       (recursive)\n",
       "│    │    └─Sequential: 3-65                       (recursive)\n",
       "│    │    └─Sequential: 3-66                       (recursive)\n",
       "│    └─TargetLengthCrop: 2-31                      --\n",
       "│    └─Sequential: 2-32                            (recursive)\n",
       "│    │    └─Rearrange: 3-67                        --\n",
       "│    │    └─Sequential: 3-68                       (recursive)\n",
       "│    │    └─Rearrange: 3-69                        --\n",
       "│    │    └─Dropout: 3-70                          --\n",
       "│    │    └─GELU: 3-71                             --\n",
       "├─ModuleDict: 1-7                                  --\n",
       "│    └─Sequential: 2-33                            --\n",
       "│    │    └─Linear: 3-72                           16,326,849\n",
       "│    │    └─Softplus: 3-73                         --\n",
       "│    └─Sequential: 2-34                            --\n",
       "│    │    └─Linear: 3-74                           5,048,939\n",
       "│    │    └─Softplus: 3-75                         --\n",
       "===========================================================================\n",
       "Total params: 481,066,796\n",
       "Trainable params: 481,066,796\n",
       "Non-trainable params: 0\n",
       "==========================================================================="
      ]
     },
     "execution_count": 26,
     "metadata": {},
     "output_type": "execute_result"
    }
   ],
   "source": [
    "enformer = from_pretrained(\n",
    "    \"EleutherAI/enformer-official-rough\", use_tf_gamma=False\n",
    ").cuda()\n",
    "summary(enformer)"
   ]
  },
  {
   "cell_type": "code",
   "execution_count": 27,
   "id": "f16c7f35-2187-4916-8dec-49614ac61a5d",
   "metadata": {
    "execution": {
     "iopub.execute_input": "2024-08-16T15:00:07.458663Z",
     "iopub.status.busy": "2024-08-16T15:00:07.457965Z",
     "iopub.status.idle": "2024-08-16T15:00:07.470351Z",
     "shell.execute_reply": "2024-08-16T15:00:07.469802Z",
     "shell.execute_reply.started": "2024-08-16T15:00:07.458647Z"
    }
   },
   "outputs": [],
   "source": [
    "data = torch.load(\"../data/test-sample.pt\")"
   ]
  },
  {
   "cell_type": "code",
   "execution_count": 9,
   "id": "17e0ddda-b9cd-4b72-945d-ef9ba25d0e17",
   "metadata": {
    "execution": {
     "iopub.execute_input": "2024-08-16T14:55:40.662861Z",
     "iopub.status.busy": "2024-08-16T14:55:40.662064Z",
     "iopub.status.idle": "2024-08-16T14:55:40.665933Z",
     "shell.execute_reply": "2024-08-16T14:55:40.665379Z",
     "shell.execute_reply.started": "2024-08-16T14:55:40.662843Z"
    }
   },
   "outputs": [
    {
     "name": "stdout",
     "output_type": "stream",
     "text": [
      "sequence torch.Size([131072, 4]) torch.float32\n",
      "target torch.Size([896, 5313]) torch.float32\n"
     ]
    }
   ],
   "source": [
    "for k, v in data.items():\n",
    "    print(k, v.shape, v.dtype)"
   ]
  },
  {
   "cell_type": "code",
   "execution_count": 10,
   "id": "543f47fd-a30c-449b-8af6-c3280126f83d",
   "metadata": {
    "execution": {
     "iopub.execute_input": "2024-08-16T14:56:57.798171Z",
     "iopub.status.busy": "2024-08-16T14:56:57.797556Z",
     "iopub.status.idle": "2024-08-16T14:56:57.800617Z",
     "shell.execute_reply": "2024-08-16T14:56:57.800124Z",
     "shell.execute_reply.started": "2024-08-16T14:56:57.798154Z"
    }
   },
   "outputs": [],
   "source": [
    "import numpy as np"
   ]
  },
  {
   "cell_type": "code",
   "execution_count": 15,
   "id": "71642491-7e51-4995-8ad1-eed6299fe3a1",
   "metadata": {
    "execution": {
     "iopub.execute_input": "2024-08-16T14:57:23.076118Z",
     "iopub.status.busy": "2024-08-16T14:57:23.075499Z",
     "iopub.status.idle": "2024-08-16T14:57:23.079699Z",
     "shell.execute_reply": "2024-08-16T14:57:23.079168Z",
     "shell.execute_reply.started": "2024-08-16T14:57:23.076092Z"
    }
   },
   "outputs": [],
   "source": [
    "sequence = np.load(\"test_sequence.npy\")\n",
    "sequence = torch.from_numpy(sequence).to(\"cuda\")"
   ]
  },
  {
   "cell_type": "code",
   "execution_count": 22,
   "id": "f6cbd88f-19e7-4407-9923-d554c9949600",
   "metadata": {
    "execution": {
     "iopub.execute_input": "2024-08-16T14:59:08.033268Z",
     "iopub.status.busy": "2024-08-16T14:59:08.032839Z",
     "iopub.status.idle": "2024-08-16T14:59:08.087857Z",
     "shell.execute_reply": "2024-08-16T14:59:08.087275Z",
     "shell.execute_reply.started": "2024-08-16T14:59:08.033251Z"
    }
   },
   "outputs": [],
   "source": [
    "with torch.no_grad():\n",
    "    result = enformer(sequence)"
   ]
  },
  {
   "cell_type": "code",
   "execution_count": 28,
   "id": "2fdcc68a-0b6c-4202-bfc9-99f0aa3e7164",
   "metadata": {
    "execution": {
     "iopub.execute_input": "2024-08-16T15:00:10.891010Z",
     "iopub.status.busy": "2024-08-16T15:00:10.890400Z",
     "iopub.status.idle": "2024-08-16T15:00:11.006252Z",
     "shell.execute_reply": "2024-08-16T15:00:11.005578Z",
     "shell.execute_reply.started": "2024-08-16T15:00:10.890992Z"
    }
   },
   "outputs": [
    {
     "name": "stdout",
     "output_type": "stream",
     "text": [
      "tensor(0.6000, device='cuda:0')\n"
     ]
    }
   ],
   "source": [
    "seq, target = data[\"sequence\"].cuda(), data[\"target\"].cuda()\n",
    "\n",
    "with torch.no_grad():\n",
    "    corr_coef = enformer(seq, target=target, return_corr_coef=False, head=\"human\")\n",
    "\n",
    "print(corr_coef)\n",
    "assert corr_coef > 0.1"
   ]
  },
  {
   "cell_type": "code",
   "execution_count": null,
   "id": "e61dca57-1ee0-49c3-bbd6-7afb84fb162b",
   "metadata": {},
   "outputs": [],
   "source": []
  }
 ],
 "metadata": {
  "kernelspec": {
   "display_name": "Python 3 (ipykernel)",
   "language": "python",
   "name": "python3"
  },
  "language_info": {
   "codemirror_mode": {
    "name": "ipython",
    "version": 3
   },
   "file_extension": ".py",
   "mimetype": "text/x-python",
   "name": "python",
   "nbconvert_exporter": "python",
   "pygments_lexer": "ipython3",
   "version": "3.10.14"
  }
 },
 "nbformat": 4,
 "nbformat_minor": 5
}
